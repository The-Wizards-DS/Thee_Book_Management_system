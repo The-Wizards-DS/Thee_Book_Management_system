{
 "cells": [
  {
   "cell_type": "code",
   "execution_count": null,
   "metadata": {
    "vscode": {
     "languageId": "plaintext"
    }
   },
   "outputs": [],
   "source": [
    "def search():\n",
    "    isbn = input(\"Enter ISBN Number to search for: \")\n",
    "    query = f\"SELECT * FROM books WHERE isbn_number = '{isbn}'\"\n",
    "    result = %sql $query\n",
    "    \n",
    "\n",
    "    if len(result) == 0:\n",
    "        print(\"No book found with the given ISBN number.\")\n",
    "    else:\n",
    "       print(\"Book information:\")\n",
    "       for row in result:\n",
    "           print(f\"ISBN: {row.isbn_number}\")\n",
    "           print(f\"Title: {row.book_title}\")\n",
    "           print(f\"Price: {row.price}\")\n",
    "           print(f\"Published Year: {row.published_year}\")\n",
    "           print(f\"Category: {row.category}\")\n",
    "           print(f\"Quantity: {row.quantity}\")\n",
    "           print(f\"Total Sales: {row.total_sales}\")\n",
    "           print(f\"Book Status: {row.book_status}\")\n",
    "           print(f\"Book Type: {row.book_type}\")\n",
    "           print(f\"Publisher ID: {row.publisher_id}\")\n",
    "           print(f\"Customer ID: {row.customer_id}\")\n",
    "           print(f\"Transaction ID: {row.transaction_id}\")\n",
    "           print(f\"Authors ID: {row.authors_id}\");"
   ]
  }
 ],
 "metadata": {
  "kernelspec": {
   "display_name": "base",
   "language": "python",
   "name": "python3"
  },
  "language_info": {
   "codemirror_mode": {
    "name": "ipython",
    "version": 3
   },
   "file_extension": ".py",
   "mimetype": "text/x-python",
   "name": "python",
   "nbconvert_exporter": "python",
   "pygments_lexer": "ipython3",
   "version": "3.10.9"
  },
  "orig_nbformat": 4
 },
 "nbformat": 4,
 "nbformat_minor": 2
}
