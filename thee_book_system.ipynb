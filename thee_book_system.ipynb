{
 "cells": [
  {
   "cell_type": "code",
   "execution_count": null,
   "metadata": {
    "vscode": {
     "languageId": "plaintext"
    }
   },
   "outputs": [],
   "source": [
    "%%sql\n",
    "def edit():\n",
    "  isbn = input(\"Enter ISBN Number You Want To Edit: \")\n",
    "      field = input(\"Enter Field Name You Want To Edit: \")\n",
    "      change = input(f\"Do you want to change {field}? \")\n",
    "      if change.lower() == \"y\":\n",
    "          changer = input(\"Insert the new value: \")\n",
    "          query = f\"UPDATE books SET {field} = '{changer}' WHERE isbn_number = '{isbn}'\"\n",
    "          %sql $query\n",
    "          %sql COMMIT\n",
    "      else:\n",
    "        print(\"No change made.\")"
   ]
  }
 ],
 "metadata": {
  "kernelspec": {
   "display_name": "base",
   "language": "python",
   "name": "python3"
  },
  "language_info": {
   "codemirror_mode": {
    "name": "ipython",
    "version": 3
   },
   "file_extension": ".py",
   "mimetype": "text/x-python",
   "name": "python",
   "nbconvert_exporter": "python",
   "pygments_lexer": "ipython3",
   "version": "3.10.9"
  },
  "orig_nbformat": 4
 },
 "nbformat": 4,
 "nbformat_minor": 2
}
