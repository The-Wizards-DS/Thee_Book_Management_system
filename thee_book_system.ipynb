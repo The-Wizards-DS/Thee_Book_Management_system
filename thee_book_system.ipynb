{
 "cells": [
  {
   "cell_type": "code",
   "execution_count": null,
   "metadata": {
    "vscode": {
     "languageId": "plaintext"
    }
   },
   "outputs": [],
   "source": [
    "def delete_book():\n",
    "    isbn_number = input(\"Please enter the ISBN number of the book that you want to delete? \")\n",
    "    var1 = %sql select * from books WHERE isbn_number = {isbn_number};\n",
    "    test = var1\n",
    "    if len(test) > 0:\n",
    "        print(f\"Are you sure you want to delete the book with ISBN number {isbn_number}?\")\n",
    "        confirm = input(\"Please enter 'yes' or 'no': \")\n",
    "        if confirm.lower() in ['yes', 'y']:\n",
    "            %sql UPDATE books SET deleted = True WHERE isbn_number = {isbn_number};\n",
    "            print(\"The book with this particular ISBN number has been soft-deleted from the system\")\n",
    "        elif confirm.lower() in ['no', 'n']:\n",
    "            print(\"The book has not been deleted\")\n",
    "    else:\n",
    "        print(\"There is no book with this particular ISBN number in the system\")"
   ]
  }
 ],
 "metadata": {
  "kernelspec": {
   "display_name": "base",
   "language": "python",
   "name": "python3"
  },
  "language_info": {
   "codemirror_mode": {
    "name": "ipython",
    "version": 3
   },
   "file_extension": ".py",
   "mimetype": "text/x-python",
   "name": "python",
   "nbconvert_exporter": "python",
   "pygments_lexer": "ipython3",
   "version": "3.10.9"
  },
  "orig_nbformat": 4
 },
 "nbformat": 4,
 "nbformat_minor": 2
}
